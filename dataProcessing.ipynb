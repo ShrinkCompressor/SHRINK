{
 "cells": [
  {
   "cell_type": "markdown",
   "metadata": {},
   "source": [
    "### 1. Watch_gyroscope_X"
   ]
  },
  {
   "cell_type": "code",
   "execution_count": 2,
   "metadata": {},
   "outputs": [],
   "source": [
    "import pandas as pd\n",
    "import gzip\n",
    "import shutil\n",
    "import os\n",
    "\n",
    "path = \"/home/guoyou/ExtractSemantic/Data/Test/\"\n",
    "# 加载 CSV 文件\n",
    "csv_file = 'Watch_gyroscope_X.csv'  # 替换为您的 CSV 文件路径\n",
    "df = pd.read_csv(path+csv_file)\n",
    "\n",
    "# 创建一个与 DataFrame 行数相同的整数序列\n",
    "index_array = range(1, len(df) + 1)\n",
    "\n",
    "# 将整数序列作为新的第一列插入 DataFrame\n",
    "df.insert(0, 0, index_array)\n",
    "\n",
    "# 保存修改后的 DataFrame 为新的 CSV 文件\n",
    "modified_csv_file_path = path+'Watch_gyroscope_X_transf.csv'  # 指定您想要保存修改后的 CSV 文件的路径\n",
    "df.to_csv(modified_csv_file_path, index=False)\n",
    "\n",
    "# 读取 CSV 文件并压缩为 .gz 文件\n",
    "with open(modified_csv_file_path, 'rb') as f_in:\n",
    "    with gzip.open(path+'Watch_gyroscope_X.csv.gz', 'wb') as f_out:\n",
    "        shutil.copyfileobj(f_in, f_out)\n",
    "\n",
    "# 删除原始 CSV 文件\n",
    "os.remove(modified_csv_file_path)\n"
   ]
  },
  {
   "cell_type": "markdown",
   "metadata": {},
   "source": [
    "### 2. Watch_accelerometer_X"
   ]
  },
  {
   "cell_type": "code",
   "execution_count": 12,
   "metadata": {},
   "outputs": [],
   "source": [
    "import numpy as np\n",
    "import pandas as pd\n",
    "\n",
    "path = \"/home/guoyou/ExtractSemantic/Data/Test/\"\n",
    "# 加载 .npy 文件\n",
    "npy_file_path = 'Watch_accelerometer_X.npy'  # 替换为您的 .npy 文件路径\n",
    "data = np.load(path +npy_file_path)\n",
    "\n",
    "# 将 NumPy 数组转换为 pandas DataFrame\n",
    "# 如果是一维数组，我们将其转换为单列 DataFrame\n",
    "if data.ndim == 1:\n",
    "    df = pd.DataFrame(data)\n",
    "# 如果是多维数组，每个维度成为 DataFrame 的一列\n",
    "else:\n",
    "    df = pd.DataFrame(data)\n",
    "\n",
    "# 保存 DataFrame 为 CSV 文件\n",
    "csv_file_path = path+'Watch_accelerometer_X.csv'  # 指定您想要保存 CSV 文件的路径\n",
    "df.to_csv(csv_file_path, index=False)  # 如果您不需要行索引\n"
   ]
  },
  {
   "cell_type": "code",
   "execution_count": 13,
   "metadata": {},
   "outputs": [],
   "source": [
    "import pandas as pd\n",
    "import gzip\n",
    "import shutil\n",
    "import os\n",
    "\n",
    "path = \"/home/guoyou/ExtractSemantic/Data/Test/\"\n",
    "# 加载 CSV 文件\n",
    "csv_file = 'Watch_accelerometer_X.csv'  # 替换为您的 CSV 文件路径\n",
    "df = pd.read_csv(path+csv_file)\n",
    "\n",
    "# 创建一个与 DataFrame 行数相同的整数序列\n",
    "index_array = range(1, len(df) + 1)\n",
    "\n",
    "# 将整数序列作为新的第一列插入 DataFrame\n",
    "df.insert(0, 0, index_array)\n",
    "\n",
    "# 保存修改后的 DataFrame 为新的 CSV 文件\n",
    "modified_csv_file_path = path+'Watch_accelerometer_X_transf.csv'  # 指定您想要保存修改后的 CSV 文件的路径\n",
    "df.to_csv(modified_csv_file_path, index=False)\n",
    "\n",
    "# 读取 CSV 文件并压缩为 .gz 文件\n",
    "with open(modified_csv_file_path, 'rb') as f_in:\n",
    "    with gzip.open(path+'Watch_accelerometer_X.csv.gz', 'wb') as f_out:\n",
    "        shutil.copyfileobj(f_in, f_out)\n",
    "\n",
    "# 删除原始 CSV 文件\n",
    "os.remove(modified_csv_file_path)\n"
   ]
  },
  {
   "cell_type": "markdown",
   "metadata": {},
   "source": [
    "### 3.nanopore(dna)"
   ]
  },
  {
   "cell_type": "code",
   "execution_count": 14,
   "metadata": {},
   "outputs": [],
   "source": [
    "import numpy as np\n",
    "import pandas as pd\n",
    "\n",
    "path = \"/home/guoyou/ExtractSemantic/Data/Test/\"\n",
    "# 加载 .npy 文件\n",
    "npy_file_path = 'nanopore.npy'  # 替换为您的 .npy 文件路径\n",
    "data = np.load(path +npy_file_path)\n",
    "\n",
    "# 将 NumPy 数组转换为 pandas DataFrame\n",
    "# 如果是一维数组，我们将其转换为单列 DataFrame\n",
    "if data.ndim == 1:\n",
    "    df = pd.DataFrame(data)\n",
    "# 如果是多维数组，每个维度成为 DataFrame 的一列\n",
    "else:\n",
    "    df = pd.DataFrame(data)\n",
    "\n",
    "# 保存 DataFrame 为 CSV 文件\n",
    "csv_file_path = path+'nanopore.csv'  # 指定您想要保存 CSV 文件的路径\n",
    "df.to_csv(csv_file_path, index=False)  # 如果您不需要行索引\n"
   ]
  },
  {
   "cell_type": "code",
   "execution_count": 15,
   "metadata": {},
   "outputs": [],
   "source": [
    "import pandas as pd\n",
    "import gzip\n",
    "import shutil\n",
    "import os\n",
    "\n",
    "path = \"/home/guoyou/ExtractSemantic/Data/Test/\"\n",
    "# 加载 CSV 文件\n",
    "csv_file = 'nanopore.csv'  # 替换为您的 CSV 文件路径\n",
    "df = pd.read_csv(path+csv_file)\n",
    "\n",
    "# 创建一个与 DataFrame 行数相同的整数序列\n",
    "index_array = range(1, len(df) + 1)\n",
    "\n",
    "# 将整数序列作为新的第一列插入 DataFrame\n",
    "df.insert(0, 0, index_array)\n",
    "\n",
    "# 保存修改后的 DataFrame 为新的 CSV 文件\n",
    "modified_csv_file_path = path+'nanopore_transf.csv'  # 指定您想要保存修改后的 CSV 文件的路径\n",
    "df.to_csv(modified_csv_file_path, index=False)\n",
    "\n",
    "# 读取 CSV 文件并压缩为 .gz 文件\n",
    "with open(modified_csv_file_path, 'rb') as f_in:\n",
    "    with gzip.open(path+'nanopore.csv.gz', 'wb') as f_out:\n",
    "        shutil.copyfileobj(f_in, f_out)\n",
    "\n",
    "# 删除原始 CSV 文件\n",
    "os.remove(modified_csv_file_path)\n"
   ]
  },
  {
   "cell_type": "markdown",
   "metadata": {},
   "source": [
    "### 4. active_power (pow)"
   ]
  },
  {
   "cell_type": "code",
   "execution_count": 16,
   "metadata": {},
   "outputs": [],
   "source": [
    "import numpy as np\n",
    "import pandas as pd\n",
    "\n",
    "path = \"/home/guoyou/ExtractSemantic/Data/Test/\"\n",
    "# 加载 .npy 文件\n",
    "npy_file_path = 'active_power.npy'  # 替换为您的 .npy 文件路径\n",
    "data = np.load(path +npy_file_path)\n",
    "\n",
    "# 将 NumPy 数组转换为 pandas DataFrame\n",
    "# 如果是一维数组，我们将其转换为单列 DataFrame\n",
    "if data.ndim == 1:\n",
    "    df = pd.DataFrame(data)\n",
    "# 如果是多维数组，每个维度成为 DataFrame 的一列\n",
    "else:\n",
    "    df = pd.DataFrame(data)\n",
    "\n",
    "# 保存 DataFrame 为 CSV 文件\n",
    "csv_file_path = path+'active_power.csv'  # 指定您想要保存 CSV 文件的路径\n",
    "df.to_csv(csv_file_path, index=False)  # 如果您不需要行索引\n"
   ]
  },
  {
   "cell_type": "code",
   "execution_count": null,
   "metadata": {},
   "outputs": [],
   "source": [
    "import pandas as pd\n",
    "import gzip\n",
    "import shutil\n",
    "import os\n",
    "\n",
    "path = \"/home/guoyou/ExtractSemantic/Data/Test/\"\n",
    "# 加载 CSV 文件\n",
    "csv_file = 'active_power.csv'  # 替换为您的 CSV 文件路径\n",
    "df = pd.read_csv(path+csv_file)\n",
    "\n",
    "# 创建一个与 DataFrame 行数相同的整数序列\n",
    "index_array = range(1, len(df) + 1)\n",
    "\n",
    "# 将整数序列作为新的第一列插入 DataFrame\n",
    "df.insert(0, 0, index_array)\n",
    "\n",
    "# 保存修改后的 DataFrame 为新的 CSV 文件\n",
    "modified_csv_file_path = path+'active_power_transf.csv'  # 指定您想要保存修改后的 CSV 文件的路径\n",
    "df.to_csv(modified_csv_file_path, index=False)\n",
    "\n",
    "# 读取 CSV 文件并压缩为 .gz 文件\n",
    "with open(modified_csv_file_path, 'rb') as f_in:\n",
    "    with gzip.open(path+'active_power.csv.gz', 'wb') as f_out:\n",
    "        shutil.copyfileobj(f_in, f_out)\n",
    "\n",
    "# 删除原始 CSV 文件\n",
    "os.remove(modified_csv_file_path)\n"
   ]
  },
  {
   "cell_type": "markdown",
   "metadata": {},
   "source": [
    "### 5、将csv转化为.npy"
   ]
  },
  {
   "cell_type": "code",
   "execution_count": 7,
   "metadata": {},
   "outputs": [
    {
     "name": "stdout",
     "output_type": "stream",
     "text": [
      "shape:  (2, 702000)\n",
      "CSV文件 \"Cricket.csv\" 已成功转换为.npy文件 \"Cricket.npy\"\n",
      "shape:  (2, 39200)\n",
      "CSV文件 \"FaceFour.csv\" 已成功转换为.npy文件 \"FaceFour.npy\"\n",
      "shape:  (2, 122694)\n",
      "CSV文件 \"Lightning.csv\" 已成功转换为.npy文件 \"Lightning.npy\"\n",
      "shape:  (2, 106848)\n",
      "CSV文件 \"MoteStrain.csv\" 已成功转换为.npy文件 \"MoteStrain.npy\"\n",
      "shape:  (2, 1088928)\n",
      "CSV文件 \"Wafer.csv\" 已成功转换为.npy文件 \"Wafer.npy\"\n",
      "shape:  (2, 4119081)\n",
      "CSV文件 \"WindSpeed.csv\" 已成功转换为.npy文件 \"WindSpeed.npy\"\n",
      "shape:  (2, 1169510)\n",
      "CSV文件 \"WindDirection.csv\" 已成功转换为.npy文件 \"WindDirection.npy\"\n",
      "shape:  (2, 12098677)\n",
      "CSV文件 \"Pressure.csv\" 已成功转换为.npy文件 \"Pressure.npy\"\n",
      "shape:  (2, 699720)\n",
      "CSV文件 \"Ecg.csv\" 已成功转换为.npy文件 \"Ecg.npy\"\n"
     ]
    }
   ],
   "source": [
    "import numpy as np\n",
    "import csv\n",
    "\n",
    "# 输入的CSV文件名\n",
    "path = \"/home/guoyou/ExtractSemantic/Data/\"\n",
    "csv_files = [\"Cricket.csv\", \"FaceFour.csv\", \"Lightning.csv\", \"MoteStrain.csv\", \"Wafer.csv\", \"WindSpeed.csv\", \"WindDirection.csv\", \"Pressure.csv\", \"Ecg.csv\"]\n",
    "\n",
    "for csv_file in csv_files:\n",
    "    # 读取CSV文件并将数据加载到NumPy数组\n",
    "    data = []\n",
    "    with open(path+csv_file, 'r') as csvfile:\n",
    "        csvreader = csv.reader(csvfile)\n",
    "        for row in csvreader:\n",
    "            data.append(row)\n",
    "\n",
    "    # 转换数据为NumPy数组\n",
    "    data_array = np.array(data, dtype=np.float32)\n",
    "    data_array = data_array.T \n",
    "    print(\"shape: \", data_array.shape)\n",
    "\n",
    "    # 输出的.npy文件名\n",
    "    npy_file = csv_file[:-4] +'.npy'\n",
    "    output_path = \"/home/guoyou/Lossy/LFZip/data/evaluation_datasets/\"\n",
    "\n",
    "    # 保存数据为.npy文件\n",
    "    np.save(output_path+npy_file, data_array)\n",
    "\n",
    "    print(f'CSV文件 \"{csv_file}\" 已成功转换为.npy文件 \"{npy_file}\"')\n"
   ]
  },
  {
   "cell_type": "code",
   "execution_count": 35,
   "metadata": {},
   "outputs": [
    {
     "name": "stdout",
     "output_type": "stream",
     "text": [
      "shape:  (1, 4098562)\n",
      "CSV文件 \"extended_active_power.csv\" 已成功转换为.npy文件 \"extended_active_power.npy\"\n"
     ]
    }
   ],
   "source": [
    "import numpy as np\n",
    "import csv\n",
    "\n",
    "# 输入的CSV文件名\n",
    "path = \"/home/guoyou/ExtractSemantic/Data/Test/\"\n",
    "csv_files = [\"extended_active_power.csv\"]\n",
    "\n",
    "for csv_file in csv_files:\n",
    "    # 读取CSV文件并将数据加载到NumPy数组\n",
    "    data = []\n",
    "    with open(path+csv_file, 'r') as csvfile:\n",
    "        csvreader = csv.reader(csvfile)\n",
    "        for row in csvreader:\n",
    "            data.append(row)\n",
    "\n",
    "    # 转换数据为NumPy数组\n",
    "    data_array = np.array(data, dtype=np.float32)\n",
    "    data_array = data_array.T \n",
    "    print(\"shape: \", data_array.shape)\n",
    "\n",
    "    # 输出的.npy文件名\n",
    "    npy_file = csv_file[:-4] +'.npy'\n",
    "    output_path = \"/home/guoyou/Lossy/LFZip/data/evaluation_datasets/\"\n",
    "\n",
    "    # 保存数据为.npy文件\n",
    "    np.save(output_path+npy_file, data_array)\n",
    "\n",
    "    print(f'CSV文件 \"{csv_file}\" 已成功转换为.npy文件 \"{npy_file}\"')\n"
   ]
  },
  {
   "cell_type": "code",
   "execution_count": 1,
   "metadata": {},
   "outputs": [
    {
     "name": "stdout",
     "output_type": "stream",
     "text": [
      "shape:  (1, 4098562)\n",
      "CSV文件 \"extended_active_power.csv\" 已成功转换为.npy文件 \"extended_active_power.npy\"\n",
      "shape:  (1, 8197124)\n",
      "CSV文件 \"ex2tended_active_power.csv\" 已成功转换为.npy文件 \"ex2tended_active_power.npy\"\n",
      "shape:  (1, 16394248)\n",
      "CSV文件 \"ex3tended_active_power.csv\" 已成功转换为.npy文件 \"ex3tended_active_power.npy\"\n",
      "shape:  (1, 32788496)\n",
      "CSV文件 \"ex4tended_active_power.csv\" 已成功转换为.npy文件 \"ex4tended_active_power.npy\"\n",
      "shape:  (1, 65576992)\n",
      "CSV文件 \"ex5tended_active_power.csv\" 已成功转换为.npy文件 \"ex5tended_active_power.npy\"\n"
     ]
    }
   ],
   "source": [
    "import numpy as np\n",
    "import csv\n",
    "\n",
    "# 输入的CSV文件名\n",
    "path = \"/home/guoyou/ExtractSemantic/Data/Test/\"\n",
    "csv_files = [\"extended_active_power.csv\",\"ex2tended_active_power.csv\",\"ex3tended_active_power.csv\", \"ex4tended_active_power.csv\", \"ex5tended_active_power.csv\"]\n",
    "\n",
    "for csv_file in csv_files:\n",
    "    # 读取CSV文件并将数据加载到NumPy数组\n",
    "    data = []\n",
    "    with open(path+csv_file, 'r') as csvfile:\n",
    "        csvreader = csv.reader(csvfile)\n",
    "        for row in csvreader:\n",
    "            data.append(row)\n",
    "\n",
    "    # 转换数据为NumPy数组\n",
    "    data_array = np.array(data, dtype=np.float32)\n",
    "    data_array = data_array.T \n",
    "    print(\"shape: \", data_array.shape)\n",
    "\n",
    "    # 输出的.npy文件名\n",
    "    npy_file = csv_file[:-4] +'.npy'\n",
    "    output_path = \"/home/guoyou/Lossy/LFZip/data/evaluation_datasets/\"\n",
    "\n",
    "    # 保存数据为.npy文件\n",
    "    np.save(output_path+npy_file, data_array)\n",
    "\n",
    "    print(f'CSV文件 \"{csv_file}\" 已成功转换为.npy文件 \"{npy_file}\"')\n"
   ]
  },
  {
   "cell_type": "markdown",
   "metadata": {},
   "source": [
    "### 6、csv转化为.data"
   ]
  },
  {
   "cell_type": "code",
   "execution_count": 1,
   "metadata": {},
   "outputs": [
    {
     "name": "stdout",
     "output_type": "stream",
     "text": [
      "Shape: (701999, 2)\n",
      "CSV文件 \"Cricket.csv\" 已成功转换为.dat文件 \"Cricket.data\"\n"
     ]
    }
   ],
   "source": [
    "import numpy as np\n",
    "import pandas as pd\n",
    "\n",
    "# 输入的CSV文件名\n",
    "path = \"/home/guoyou/ExtractSemantic/Data/\"\n",
    "csv_files = [\"Cricket.csv\", \"FaceFour.csv\", \"Lightning.csv\", \"MoteStrain.csv\", \"Wafer.csv\", \"WindSpeed.csv\", \"WindDirection.csv\", \"Pressure.csv\", \"Ecg.csv\"]\n",
    "csv_files = [\"Cricket.csv\"]\n",
    "\n",
    "for csv_file in csv_files:\n",
    "    # 读取CSV文件并将数据加载到NumPy数组\n",
    "    df = pd.read_csv(path+csv_file)\n",
    "    print('Shape:', df.shape)\n",
    "\n",
    "\n",
    "    # 输出的.npy文件名\n",
    "    data_file = csv_file[:-4] +'.data'\n",
    "    output_path = \"/home/guoyou/Lossy/SZ/bin/data/\"\n",
    "    df.to_numpy().tofile(output_path+data_file, sep=' ')\n",
    "\n",
    "    print(f'CSV文件 \"{csv_file}\" 已成功转换为.dat文件 \"{data_file}\"')\n"
   ]
  },
  {
   "cell_type": "markdown",
   "metadata": {},
   "source": [
    "### 8、扩充数据"
   ]
  },
  {
   "cell_type": "code",
   "execution_count": 40,
   "metadata": {},
   "outputs": [],
   "source": [
    "import pandas as pd\n",
    "import random\n",
    "import gzip\n",
    "import shutil\n",
    "import os\n",
    "\n",
    "# 读取原始CSV文件\n",
    "original_data = pd.read_csv('/home/guoyou/ExtractSemantic/Data/Test/ex4tended_active_power.csv', header=None)\n",
    "\n",
    "# 生成带有噪声的新数据\n",
    "noise = [random.gauss(0, 0.1) for _ in range(len(original_data))]\n",
    "extended_data = original_data[0].tolist() + noise\n",
    "\n",
    "# 创建包含扩展数据的DataFrame\n",
    "extended_df = pd.DataFrame({'Value': extended_data})\n",
    "\n",
    "# 保存扩展后的数据为新的CSV文件（不包含列名）\n",
    "extended_df.to_csv('/home/guoyou/ExtractSemantic/Data/Test/ex5tended_active_power.csv', header=False, index=False)\n",
    "\n",
    "\n",
    "path = \"/home/guoyou/ExtractSemantic/Data/Test/\"\n",
    "# 加载 CSV 文件\n",
    "csv_file = 'ex3tended_active_power.csv'  # 替换为您的 CSV 文件路径\n",
    "df = pd.read_csv(path+csv_file)\n",
    "\n",
    "# 创建一个与 DataFrame 行数相同的整数序列\n",
    "index_array = range(1, len(df) + 1)\n",
    "\n",
    "# 将整数序列作为新的第一列插入 DataFrame\n",
    "df.insert(0, 0, index_array)\n",
    "\n",
    "# 保存修改后的 DataFrame 为新的 CSV 文件\n",
    "modified_csv_file_path = path+'ex5tended_active_power.csv_transf.csv'  # 指定您想要保存修改后的 CSV 文件的路径\n",
    "df.to_csv(modified_csv_file_path, index=False)\n",
    "\n",
    "# 读取 CSV 文件并压缩为 .gz 文件\n",
    "with open(modified_csv_file_path, 'rb') as f_in:\n",
    "    with gzip.open(path+'ex5tended_active_power.csv.gz', 'wb') as f_out:\n",
    "        shutil.copyfileobj(f_in, f_out)\n",
    "\n",
    "# 删除原始 CSV 文件\n",
    "os.remove(modified_csv_file_path)\n"
   ]
  },
  {
   "cell_type": "code",
   "execution_count": 1,
   "metadata": {},
   "outputs": [
    {
     "name": "stdout",
     "output_type": "stream",
     "text": [
      "(2049281, 1)\n",
      "<bound method NDFrame.head of              0\n",
      "0        0.000\n",
      "1        4.216\n",
      "2        5.360\n",
      "3        5.374\n",
      "4        5.388\n",
      "...        ...\n",
      "2049276  0.946\n",
      "2049277  0.944\n",
      "2049278  0.938\n",
      "2049279  0.934\n",
      "2049280  0.932\n",
      "\n",
      "[2049281 rows x 1 columns]>\n",
      "(4098562, 1)\n",
      "<bound method NDFrame.head of             Value\n",
      "0        0.000000\n",
      "1        4.216000\n",
      "2        5.360000\n",
      "3        5.374000\n",
      "4        5.388000\n",
      "...           ...\n",
      "4098557  0.136292\n",
      "4098558 -0.043607\n",
      "4098559 -0.045880\n",
      "4098560  0.109694\n",
      "4098561  0.034240\n",
      "\n",
      "[4098562 rows x 1 columns]>\n"
     ]
    }
   ],
   "source": [
    "import pandas as pd\n",
    "import random\n",
    "import gzip\n",
    "import shutil\n",
    "import os\n",
    "\n",
    "# 读取原始CSV文件\n",
    "original_data = pd.read_csv('/home/guoyou/PowerDatase/active_power.csv', header=None)\n",
    "print(original_data.shape)\n",
    "print(original_data.head)\n",
    "\n",
    "# 生成带有噪声的新数据\n",
    "noise = [random.gauss(0, 0.1) for _ in range(len(original_data))]\n",
    "extended_data = original_data[0].tolist() + noise\n",
    "\n",
    "# 创建包含扩展数据的DataFrame\n",
    "extended_df = pd.DataFrame({'Value': extended_data})\n",
    "print(extended_df.shape)\n",
    "print(extended_df.head)\n",
    "\n",
    "# 保存扩展后的数据为新的CSV文件（不包含列名）\n",
    "extended_df.to_csv('/home/guoyou/PowerDatase/extended_active_power.csv', header=False, index=False)"
   ]
  },
  {
   "cell_type": "markdown",
   "metadata": {},
   "source": [
    "### 9、多维数据"
   ]
  },
  {
   "cell_type": "code",
   "execution_count": 2,
   "metadata": {},
   "outputs": [],
   "source": [
    "import pandas as pd\n",
    "import gzip\n",
    "import shutil\n",
    "import os\n",
    "\n",
    "path = \"/home/guoyou/ExtractSemantic/Data/Test/MultiVar/\"\n",
    "# 加载 CSV 文件\n",
    "csv_file = 'Watch_accelerometer.csv'  # 替换为您的 CSV 文件路径\n",
    "df = pd.read_csv(path+csv_file)\n",
    "\n",
    "# 创建一个与 DataFrame 行数相同的整数序列\n",
    "index_array = range(1, len(df) + 1)\n",
    "\n",
    "# 将整数序列作为新的第一列插入 DataFrame\n",
    "df.insert(0, 0, index_array)\n",
    "\n",
    "# 保存修改后的 DataFrame 为新的 CSV 文件\n",
    "modified_csv_file_path = path+'Watch_accelerometer_X_transf.csv'  # 指定您想要保存修改后的 CSV 文件的路径\n",
    "df.to_csv(modified_csv_file_path, index=False)\n",
    "\n",
    "# 读取 CSV 文件并压缩为 .gz 文件\n",
    "with open(modified_csv_file_path, 'rb') as f_in:\n",
    "    with gzip.open(path+'Watch_accelerometer.csv.gz', 'wb') as f_out:\n",
    "        shutil.copyfileobj(f_in, f_out)\n",
    "\n",
    "# 删除原始 CSV 文件\n",
    "os.remove(modified_csv_file_path)\n",
    "\n"
   ]
  },
  {
   "cell_type": "code",
   "execution_count": null,
   "metadata": {},
   "outputs": [],
   "source": [
    "import numpy as np\n",
    "import pandas as pd\n",
    "\n",
    "# 加载.npy文件\n",
    "data = np.load('/home/guoyou/Watch_accelerometer_combined.npy')\n",
    "\n",
    "# 将数据转换为Pandas DataFrame\n",
    "df = pd.DataFrame(data)\n",
    "\n",
    "# 将DataFrame保存为.csv文件，不包含header\n",
    "df.to_csv('/home/guoyou/Watch_accelerometer_combined.npy.csv', index=False, header=False)\n"
   ]
  },
  {
   "cell_type": "markdown",
   "metadata": {},
   "source": [
    "### CSV转化为.npy for HIER"
   ]
  },
  {
   "cell_type": "code",
   "execution_count": 1,
   "metadata": {},
   "outputs": [
    {
     "name": "stdout",
     "output_type": "stream",
     "text": [
      "shape:  (699720, 1)\n",
      "CSV文件 \"resdiauls.csv\" 已成功转换为.npy文件 \"resdiauls.npy\"\n"
     ]
    }
   ],
   "source": [
    "import numpy as np\n",
    "import csv\n",
    "\n",
    "# 输入的CSV文件名\n",
    "path = \"/home/guoyou/ExtractSemantic/Data/\"\n",
    "csv_files = [\"Cricket.csv\", \"FaceFour.csv\", \"Lightning.csv\", \"MoteStrain.csv\", \"Wafer.csv\", \"WindSpeed.csv\", \"WindDirection.csv\", \"Pressure.csv\", \"Ecg.csv\"]\n",
    "csv_files = [\"Cricket.csv\"]\n",
    "\n",
    "path = \"/home/guoyou/ExtractSemantic/residuals/\"\n",
    "csv_files = [\"Cricket.csv\", \"FaceFour.csv\", \"Lightning.csv\", \"MoteStrain.csv\", \"Wafer.csv\", \"WindSpeed.csv\", \"WindDirection.csv\", \"Pressure.csv\", \"Ecg.csv\"]\n",
    "csv_files = [\"resdiauls.csv\"]\n",
    "\n",
    "\n",
    "for csv_file in csv_files:\n",
    "    # 读取CSV文件并将数据加载到NumPy数组\n",
    "    data = []\n",
    "    with open(path+csv_file, 'r') as csvfile:\n",
    "        csvreader = csv.reader(csvfile)\n",
    "        for row in csvreader:\n",
    "            data.append(row)\n",
    "\n",
    "    # 转换数据为NumPy数组\n",
    "    data_array = np.array(data, dtype=np.float32)\n",
    "    #data_array = data_array.T \n",
    "    print(\"shape: \", data_array.shape)\n",
    "\n",
    "    # 输出的.npy文件名\n",
    "    npy_file = csv_file[:-4] +'.npy'\n",
    "    output_path = \"/home/guoyou/HIRE-main/testdataset/\"\n",
    "\n",
    "    # 保存数据为.npy文件\n",
    "    np.save(output_path+npy_file, data_array)\n",
    "\n",
    "    print(f'CSV文件 \"{csv_file}\" 已成功转换为.npy文件 \"{npy_file}\"')\n"
   ]
  },
  {
   "cell_type": "code",
   "execution_count": 2,
   "metadata": {},
   "outputs": [],
   "source": [
    "import numpy as np\n",
    "import pandas as pd\n",
    "\n",
    "# 从.npy文件加载数据\n",
    "data = np.load(\"/home/guoyou/HIRE-main/testdataset/\"+\"Cricket.npy\")\n",
    "\n",
    "# 创建一个DataFrame对象\n",
    "df = pd.DataFrame(data)\n",
    "\n",
    "# 将DataFrame保存为.csv文件\n",
    "df.to_csv(\"/home/guoyou/HIRE-main/testdataset/\"+\"Cricket.csv\", index=False, header=False)  # 如果不需要保存索引，请将index参数设置为False\n"
   ]
  }
 ],
 "metadata": {
  "kernelspec": {
   "display_name": "d2l",
   "language": "python",
   "name": "python3"
  },
  "language_info": {
   "codemirror_mode": {
    "name": "ipython",
    "version": 3
   },
   "file_extension": ".py",
   "mimetype": "text/x-python",
   "name": "python",
   "nbconvert_exporter": "python",
   "pygments_lexer": "ipython3",
   "version": "3.9.16"
  }
 },
 "nbformat": 4,
 "nbformat_minor": 2
}
